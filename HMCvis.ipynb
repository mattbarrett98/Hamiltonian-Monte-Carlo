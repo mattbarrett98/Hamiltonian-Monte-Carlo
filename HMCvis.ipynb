{
  "nbformat": 4,
  "nbformat_minor": 0,
  "metadata": {
    "colab": {
      "name": "HMCvis.ipynb",
      "provenance": [],
      "authorship_tag": "ABX9TyMtVUgwwx8pshYn9UCDdm0a"
    },
    "kernelspec": {
      "name": "python3",
      "display_name": "Python 3"
    },
    "language_info": {
      "name": "python"
    }
  },
  "cells": [
    {
      "cell_type": "markdown",
      "metadata": {
        "id": "W7HwtELVEA1r"
      },
      "source": [
        "code used to generate the HMC visualisation "
      ]
    },
    {
      "cell_type": "code",
      "metadata": {
        "colab": {
          "base_uri": "https://localhost:8080/"
        },
        "id": "1tjswWeAltvy",
        "outputId": "e78a584b-23d5-444b-b002-a6cae155e5a0"
      },
      "source": [
        "import numpy as np\n",
        "import scipy.stats\n",
        "from matplotlib import pyplot as plt\n",
        "!pip install celluloid\n",
        "!pip install ffmpeg\n",
        "from celluloid import Camera\n",
        "import ffmpeg"
      ],
      "execution_count": 2,
      "outputs": [
        {
          "output_type": "stream",
          "text": [
            "Collecting celluloid\n",
            "  Downloading celluloid-0.2.0-py3-none-any.whl (5.4 kB)\n",
            "Requirement already satisfied: matplotlib in /usr/local/lib/python3.7/dist-packages (from celluloid) (3.2.2)\n",
            "Requirement already satisfied: numpy>=1.11 in /usr/local/lib/python3.7/dist-packages (from matplotlib->celluloid) (1.19.5)\n",
            "Requirement already satisfied: kiwisolver>=1.0.1 in /usr/local/lib/python3.7/dist-packages (from matplotlib->celluloid) (1.3.1)\n",
            "Requirement already satisfied: cycler>=0.10 in /usr/local/lib/python3.7/dist-packages (from matplotlib->celluloid) (0.10.0)\n",
            "Requirement already satisfied: python-dateutil>=2.1 in /usr/local/lib/python3.7/dist-packages (from matplotlib->celluloid) (2.8.1)\n",
            "Requirement already satisfied: pyparsing!=2.0.4,!=2.1.2,!=2.1.6,>=2.0.1 in /usr/local/lib/python3.7/dist-packages (from matplotlib->celluloid) (2.4.7)\n",
            "Requirement already satisfied: six in /usr/local/lib/python3.7/dist-packages (from cycler>=0.10->matplotlib->celluloid) (1.15.0)\n",
            "Installing collected packages: celluloid\n",
            "Successfully installed celluloid-0.2.0\n",
            "Collecting ffmpeg\n",
            "  Downloading ffmpeg-1.4.tar.gz (5.1 kB)\n",
            "Building wheels for collected packages: ffmpeg\n",
            "  Building wheel for ffmpeg (setup.py) ... \u001b[?25l\u001b[?25hdone\n",
            "  Created wheel for ffmpeg: filename=ffmpeg-1.4-py3-none-any.whl size=6084 sha256=d7a2693d0704db329a9051aeac052e1bf02de513139258e0727da9a3ef53ddf2\n",
            "  Stored in directory: /root/.cache/pip/wheels/64/80/6e/caa3e16deb0267c3cbfd36862058a724144e19fdb9eb03af0f\n",
            "Successfully built ffmpeg\n",
            "Installing collected packages: ffmpeg\n",
            "Successfully installed ffmpeg-1.4\n"
          ],
          "name": "stdout"
        }
      ]
    },
    {
      "cell_type": "code",
      "metadata": {
        "id": "6wwVYG84v_4T"
      },
      "source": [
        "def U(x):\n",
        "  val = 0.5*(x**2) + np.log(np.sqrt(2*np.pi))\n",
        "  return val\n",
        "def gradU(x):\n",
        "  return x  \n",
        "\n",
        "def HMC(U, gradU, epsilons, L, currentq, n):\n",
        "  samples = np.zeros((n, len(currentq)))\n",
        "  accept = np.zeros(n)\n",
        "  trajq = np.zeros(n*L)\n",
        "  trajp = np.zeros((n, len(currentq)))\n",
        "  for j in range(0, n):\n",
        "    q = np.copy(currentq)\n",
        "    p = np.random.normal(size=len(currentq)) \n",
        "    trajp[j] = p\n",
        "    currentp = np.copy(p)\n",
        "    \"perform L leapfrog steps\"\n",
        "    p = p - epsilons*gradU(q)/2\n",
        "    for i in range(0, L):\n",
        "      q = q + epsilons*p\n",
        "      trajq[L*j + i] = q \n",
        "      if i != L-1:\n",
        "        p = p - epsilons*gradU(q)\n",
        "    p = p - epsilons*gradU(q)/2\n",
        "    p = -1*p\n",
        "    \"calculate inital and proposed potential and kinetic energies\"\n",
        "    currentU = U(currentq)\n",
        "    proposedU = U(q)\n",
        "    currentK = sum(0.5*(currentp**2))\n",
        "    proposedK = sum(0.5*(p**2))\n",
        "    \"Metropolis acceptance rule\"\n",
        "    if np.random.uniform(size=1) < np.exp(currentU+currentK - proposedU - proposedK):\n",
        "      currentq = q\n",
        "      accept[j] = 1 \n",
        "    samples[j, ] = currentq   \n",
        "  return [samples, accept, trajq, trajp] \n",
        "\n",
        "n=10000\n",
        "L=73\n",
        "[results, acc, trajectoryq, trajectoryp] = HMC(U, gradU, 0.15, L, np.array([0]), n)"
      ],
      "execution_count": 3,
      "outputs": []
    },
    {
      "cell_type": "code",
      "metadata": {
        "id": "8EcXX99di8qT"
      },
      "source": [
        "fig, ax1 = plt.subplots()\n",
        "ax1.set_xlabel('Position')\n",
        "ax1.set_ylabel('Potential energy (- log of target)', color='blue')\n",
        "ax1.set_ylim(-0.2,9)\n",
        "ax2 = ax1.twinx()  \n",
        "ax2.set_ylabel('N(0,1) Density (target)', color='darkorange')\n",
        "ax2.set_ylim(-0.03,0.45)\n",
        "camera = Camera(fig)\n",
        "t = np.arange(-4, 4, 0.05)\n",
        "yy = U(t)\n",
        "yy2 = scipy.stats.norm.pdf(t)\n",
        "\n",
        "for j in list(range(0, 4))+list(range(97, 101))+list(range(9997,10000)):\n",
        "  for i in trajectoryq[j*L:(j+1)*L-1]:\n",
        "    ax1.plot(t, yy, color='blue')\n",
        "    ax1.tick_params(axis='y', labelcolor='blue')\n",
        "    ax2.plot(t, yy2, color='darkorange')\n",
        "    ax2.tick_params(axis='y', labelcolor='darkorange') \n",
        "    ax1.scatter(results[0:j], np.full(j, -0.02), c='green', s=30,alpha=0.25)\n",
        "    if j>=2:\n",
        "      dens = scipy.stats.gaussian_kde(np.concatenate(results[0:j]))\n",
        "      ax2.plot(t, dens(t), c='green')\n",
        "    ax2.text(-3.5,0.47,'Iteration'.ljust(10)+str(j+1)+','.ljust(2)+'momentum='+str(round(trajectoryp[j][0],2)), fontsize=15)\n",
        "    ax1.scatter(i,U(i), c='black', s=80)\n",
        "    camera.snap()\n",
        "  for i in range(0,30):\n",
        "    ax1.plot(t, yy, color='blue')\n",
        "    ax1.tick_params(axis='y', labelcolor='blue')\n",
        "    ax2.plot(t, yy2, color='darkorange')\n",
        "    ax2.tick_params(axis='y', labelcolor='darkorange')\n",
        "    ax1.scatter(results[0:j], np.full(j, -0.02), c='green', s=30,alpha=0.25)\n",
        "    if j>=2:\n",
        "      dens = scipy.stats.gaussian_kde(np.concatenate(results[0:j]))\n",
        "      ax2.plot(t, dens(t), c='green')\n",
        "    ax2.text(-3.5,0.47,'Iteration'.ljust(10)+str(j+1)+','.ljust(2)+'momentum='+str(round(trajectoryp[j][0],2)), fontsize=15)\n",
        "    ax1.scatter(trajectoryq[(j+1)*L-1],U(trajectoryq[(j+1)*L-1]), c='green', s=80)\n",
        "    camera.snap()\n",
        "\n",
        "ax1.plot(t, yy, color='blue')\n",
        "ax1.tick_params(axis='y', labelcolor='blue')\n",
        "ax2.plot(t, yy2, color='darkorange')\n",
        "ax2.tick_params(axis='y', labelcolor='darkorange')\n",
        "ax1.scatter(results, np.full(n, -0.02), c='green', s=30,alpha=0.25)\n",
        "dens = scipy.stats.gaussian_kde(np.concatenate(results))\n",
        "ax2.plot(t, dens(t), c='green')\n",
        "ax2.text(-3.5,0.47,'Iteration'.ljust(10)+str(n)+','.ljust(2)+'momentum='+str(round(trajectoryp[n-1][0],2)), fontsize=15)\n",
        "ax1.scatter(trajectoryq[n*L-1],U(trajectoryq[n*L-1]), c='black', s=80)\n",
        "camera.snap()\n",
        "\n",
        "animation = camera.animate(interval = 30)  \n",
        "animation.save('HMCvis.mp4')"
      ],
      "execution_count": null,
      "outputs": []
    }
  ]
}